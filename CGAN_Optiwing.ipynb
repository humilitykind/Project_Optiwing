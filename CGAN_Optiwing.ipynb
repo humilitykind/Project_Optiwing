{
  "cells": [
    {
      "cell_type": "markdown",
      "metadata": {
        "id": "view-in-github",
        "colab_type": "text"
      },
      "source": [
        "<a href=\"https://colab.research.google.com/github/humilitykind/Project_Optiwing/blob/main/CGAN_Optiwing.ipynb\" target=\"_parent\"><img src=\"https://colab.research.google.com/assets/colab-badge.svg\" alt=\"Open In Colab\"/></a>"
      ]
    },
    {
      "cell_type": "code",
      "execution_count": null,
      "metadata": {
        "colab": {
          "base_uri": "https://localhost:8080/"
        },
        "id": "YCEfmiKen9vm",
        "outputId": "cceea9fd-a7d1-49cf-8c23-946a7814285d"
      },
      "outputs": [
        {
          "output_type": "stream",
          "name": "stdout",
          "text": [
            "Cloning into 'Optiwing-Cp-Plots'...\n",
            "remote: Enumerating objects: 3183, done.\u001b[K\n",
            "remote: Counting objects: 100% (3183/3183), done.\u001b[K\n",
            "remote: Compressing objects: 100% (3179/3179), done.\u001b[K\n",
            "remote: Total 3183 (delta 3), reused 3179 (delta 2), pack-reused 0\u001b[K\n",
            "Receiving objects: 100% (3183/3183), 4.51 MiB | 4.97 MiB/s, done.\n",
            "Resolving deltas: 100% (3/3), done.\n"
          ]
        }
      ],
      "source": [
        "!git clone https://github.com/TensorTeen/Optiwing-Cp-Plots.git"
      ]
    },
    {
      "cell_type": "code",
      "execution_count": null,
      "metadata": {
        "colab": {
          "base_uri": "https://localhost:8080/"
        },
        "id": "jT-ye6wuiYI_",
        "outputId": "12dfbb3b-76c4-464a-f38f-6d44371773d2"
      },
      "outputs": [
        {
          "output_type": "stream",
          "name": "stdout",
          "text": [
            "Collecting tensorboardX\n",
            "  Downloading tensorboardX-2.6.2.2-py2.py3-none-any.whl (101 kB)\n",
            "\u001b[?25l     \u001b[90m━━━━━━━━━━━━━━━━━━━━━━━━━━━━━━━━━━━━━━━━\u001b[0m \u001b[32m0.0/101.7 kB\u001b[0m \u001b[31m?\u001b[0m eta \u001b[36m-:--:--\u001b[0m\r\u001b[2K     \u001b[91m━━━━━━━━━━━━━━━━\u001b[0m\u001b[90m╺\u001b[0m\u001b[90m━━━━━━━━━━━━━━━━━━━━━━━\u001b[0m \u001b[32m41.0/101.7 kB\u001b[0m \u001b[31m1.2 MB/s\u001b[0m eta \u001b[36m0:00:01\u001b[0m\r\u001b[2K     \u001b[90m━━━━━━━━━━━━━━━━━━━━━━━━━━━━━━━━━━━━━━━━\u001b[0m \u001b[32m101.7/101.7 kB\u001b[0m \u001b[31m1.6 MB/s\u001b[0m eta \u001b[36m0:00:00\u001b[0m\n",
            "\u001b[?25hRequirement already satisfied: numpy in /usr/local/lib/python3.10/dist-packages (from tensorboardX) (1.25.2)\n",
            "Requirement already satisfied: packaging in /usr/local/lib/python3.10/dist-packages (from tensorboardX) (23.2)\n",
            "Requirement already satisfied: protobuf>=3.20 in /usr/local/lib/python3.10/dist-packages (from tensorboardX) (3.20.3)\n",
            "Installing collected packages: tensorboardX\n",
            "Successfully installed tensorboardX-2.6.2.2\n"
          ]
        }
      ],
      "source": [
        "!pip install tensorboardX"
      ]
    },
    {
      "cell_type": "code",
      "execution_count": null,
      "metadata": {
        "ExecuteTime": {
          "end_time": "2023-09-28T05:05:39.708143500Z",
          "start_time": "2023-09-28T05:05:39.686016900Z"
        },
        "id": "tpj7Ntrei8Tq"
      },
      "outputs": [],
      "source": [
        "%matplotlib inline\n",
        "import matplotlib.pyplot as plt\n",
        "import numpy as np\n",
        "\n",
        "import torch\n",
        "import torch.nn as nn\n",
        "from torchvision.datasets import ImageFolder, MNIST\n",
        "from torchvision import transforms\n",
        "from torch import autograd\n",
        "from torch.autograd import Variable\n",
        "from torchvision.utils import make_grid\n",
        "from tensorboardX import SummaryWriter\n",
        "import os\n",
        "import torch.optim as optim\n",
        "import matplotlib.pyplot as plt\n",
        "import csv\n",
        "import matplotlib.ticker\n",
        "import pandas as pd\n",
        "from torch.utils.data import Dataset, DataLoader\n"
      ]
    },
    {
      "cell_type": "code",
      "execution_count": null,
      "metadata": {
        "ExecuteTime": {
          "end_time": "2023-09-28T05:05:40.676977200Z",
          "start_time": "2023-09-28T05:05:40.657812400Z"
        },
        "id": "NVwDL2udi8Tu"
      },
      "outputs": [],
      "source": [
        "transform = transforms.Compose([\n",
        "        transforms.ToTensor(),\n",
        "        transforms.Normalize([0.5], [0.5])\n",
        "])"
      ]
    },
    {
      "cell_type": "code",
      "execution_count": null,
      "metadata": {
        "ExecuteTime": {
          "end_time": "2023-09-28T05:05:41.038821700Z",
          "start_time": "2023-09-28T05:05:41.023016200Z"
        },
        "colab": {
          "base_uri": "https://localhost:8080/"
        },
        "id": "2DieeDiq77uW",
        "outputId": "f554fca2-965e-4552-aee6-c396e23f20b5"
      },
      "outputs": [
        {
          "output_type": "execute_result",
          "data": {
            "text/plain": [
              "torch.Size([1, 3])"
            ]
          },
          "metadata": {},
          "execution_count": 5
        }
      ],
      "source": [
        "x = torch.Tensor([[1,2,3]])\n",
        "x.shape"
      ]
    },
    {
      "cell_type": "code",
      "execution_count": null,
      "metadata": {
        "ExecuteTime": {
          "end_time": "2023-09-28T05:05:41.260880700Z",
          "start_time": "2023-09-28T05:05:41.238830800Z"
        },
        "id": "Bs2XKu7Gi8Tw"
      },
      "outputs": [],
      "source": [
        "class Discriminator(nn.Module):\n",
        "  def  __init__(self):\n",
        "        super().__init__()\n",
        "\n",
        "\n",
        "        self.archtitecture=nn.Sequential(\n",
        "                                         self._block(2,128,4,2),\n",
        "                                         nn.LeakyReLU(0.2,inplace=True),\n",
        "                                         self._block(128,128,2,2),\n",
        "                                         nn.LeakyReLU(0.2,inplace=True))\n",
        "        self.flatten = nn.Flatten()\n",
        "        self.dropout = nn.Dropout(0.4)\n",
        "        self.dense =nn.Sequential(nn.Linear(4992,2560),nn.Linear(2560,640),nn.Linear(640,64),nn.Linear(64,1))\n",
        "  def _block(self, in_channels, out_channels, kernel_size, stride, padding=0):\n",
        "        return nn.Sequential(\n",
        "            nn.Conv1d(\n",
        "                in_channels,\n",
        "                out_channels,\n",
        "                kernel_size,\n",
        "                stride,\n",
        "                padding,\n",
        "                bias=False)\n",
        "            )\n",
        "  def forward(self,cp_in,y_in):\n",
        "    cp_in,y_in = cp_in.reshape(len(cp_in),1,160),y_in.reshape(len(y_in),1,160)\n",
        "    x = torch.concat([cp_in,y_in],dim=1)\n",
        "    x=self.archtitecture(x) #changing to 128 channels\n",
        "    x = self.flatten(x)\n",
        "\n",
        "    x = self.dropout(x)\n",
        "\n",
        "    x= self.dense(x)\n",
        "    return x"
      ]
    },
    {
      "cell_type": "code",
      "execution_count": null,
      "metadata": {
        "ExecuteTime": {
          "end_time": "2023-09-28T05:05:41.485136600Z",
          "start_time": "2023-09-28T05:05:41.468968500Z"
        },
        "id": "3fyj7NILi8Tx"
      },
      "outputs": [],
      "source": [
        "import torch\n",
        "import torch.nn as nn\n",
        "\n",
        "class Generator(nn.Module):\n",
        "    def __init__(self):\n",
        "        super(Generator, self).__init__()\n",
        "\n",
        "\n",
        "\n",
        "        # Linear layer for label\n",
        "        self.label_linear=nn.Linear(160*1,40*1)\n",
        "        # reshape for label\n",
        "        self.label_reshape = torch.Tensor.reshape\n",
        "\n",
        "\n",
        "        self.latent_linear = nn.Linear(160*1,40*1*128)\n",
        "\n",
        "        self.leaky_relu = nn.LeakyReLU(0.2)\n",
        "\n",
        "\n",
        "        self.latent_reshape = torch.Tensor.reshape\n",
        "\n",
        "\n",
        "        self.concat = torch.concat\n",
        "\n",
        "        self.deconv1 = nn.ConvTranspose1d(129, 128, kernel_size=4, stride=2, padding=1)\n",
        "        self.deconv2 = nn.ConvTranspose1d(128, 128, kernel_size=4, stride=2, padding=1)\n",
        "        self.output = nn.Conv1d(128, 1, kernel_size=7, padding=3)\n",
        "\n",
        "    def forward(self, input_label, input_latent_vector):\n",
        "\n",
        "        label_linear = self.label_linear(input_label)\n",
        "        label_reshaped = self.label_reshape(label_linear,(len(input_label),1,40))\n",
        "        latent_linear = self.latent_linear(input_latent_vector.reshape(len(input_latent_vector),160))\n",
        "        latent_relu = self.leaky_relu(latent_linear)\n",
        "        latent_reshaped = self.latent_reshape(latent_relu,(len(input_latent_vector), 128, 40))\n",
        "        combined = torch.cat([label_reshaped,latent_reshaped],dim=1)\n",
        "\n",
        "\n",
        "        deconv1 = self.deconv1(combined)\n",
        "        deconv1_relu = self.leaky_relu(deconv1)\n",
        "\n",
        "        deconv2 = self.deconv2(deconv1_relu)\n",
        "        deconv2_relu = self.leaky_relu(deconv2)\n",
        "\n",
        "        output = self.output(deconv2_relu)\n",
        "\n",
        "        return output"
      ]
    },
    {
      "cell_type": "code",
      "execution_count": null,
      "metadata": {
        "ExecuteTime": {
          "end_time": "2023-09-28T05:06:16.074646200Z",
          "start_time": "2023-09-28T05:06:16.058904200Z"
        },
        "colab": {
          "base_uri": "https://localhost:8080/"
        },
        "id": "NzHMAf4riYJC",
        "outputId": "2c17af42-9bb5-4fe0-f105-0116c9e15399"
      },
      "outputs": [
        {
          "output_type": "execute_result",
          "data": {
            "text/plain": [
              "True"
            ]
          },
          "metadata": {},
          "execution_count": 8
        }
      ],
      "source": [
        "torch.cuda.is_available()"
      ]
    },
    {
      "cell_type": "code",
      "execution_count": null,
      "metadata": {
        "ExecuteTime": {
          "end_time": "2023-09-28T05:05:42.346110700Z",
          "start_time": "2023-09-28T05:05:42.233813400Z"
        },
        "colab": {
          "base_uri": "https://localhost:8080/"
        },
        "id": "niTYLVXXi8Ty",
        "outputId": "b0e27eb0-d4ce-4f86-8987-24d34e5ad56b"
      },
      "outputs": [
        {
          "output_type": "execute_result",
          "data": {
            "text/plain": [
              "Discriminator(\n",
              "  (archtitecture): Sequential(\n",
              "    (0): Sequential(\n",
              "      (0): Conv1d(2, 128, kernel_size=(4,), stride=(2,), bias=False)\n",
              "    )\n",
              "    (1): LeakyReLU(negative_slope=0.2, inplace=True)\n",
              "    (2): Sequential(\n",
              "      (0): Conv1d(128, 128, kernel_size=(2,), stride=(2,), bias=False)\n",
              "    )\n",
              "    (3): LeakyReLU(negative_slope=0.2, inplace=True)\n",
              "  )\n",
              "  (flatten): Flatten(start_dim=1, end_dim=-1)\n",
              "  (dropout): Dropout(p=0.4, inplace=False)\n",
              "  (dense): Sequential(\n",
              "    (0): Linear(in_features=4992, out_features=2560, bias=True)\n",
              "    (1): Linear(in_features=2560, out_features=640, bias=True)\n",
              "    (2): Linear(in_features=640, out_features=64, bias=True)\n",
              "    (3): Linear(in_features=64, out_features=1, bias=True)\n",
              "  )\n",
              ")"
            ]
          },
          "metadata": {},
          "execution_count": 9
        }
      ],
      "source": [
        "generator = Generator()\n",
        "discriminator = Discriminator()\n",
        "device = torch.device(\"cuda\")\n",
        "generator.to(device)\n",
        "discriminator.to(device)"
      ]
    },
    {
      "cell_type": "code",
      "execution_count": null,
      "metadata": {
        "id": "BbEjK3tWi8Ty"
      },
      "outputs": [],
      "source": [
        "criterion = nn.MSELoss()\n",
        "d_optimizer = torch.optim.Adam(discriminator.parameters(), lr=3e-4)\n",
        "g_optimizer = torch.optim.Adam(generator.parameters(), lr=3e-4)"
      ]
    },
    {
      "cell_type": "code",
      "execution_count": null,
      "metadata": {
        "id": "BbUPfC3Wi8Tz"
      },
      "outputs": [],
      "source": [
        "writer = SummaryWriter()"
      ]
    },
    {
      "cell_type": "code",
      "execution_count": null,
      "metadata": {
        "id": "rcfEl2O-i8Tz"
      },
      "outputs": [],
      "source": [
        "def generator_train_step(batch_size, discriminator, generator, g_optimizer, criterion,labels):\n",
        "    g_optimizer.zero_grad()\n",
        "    z = Variable(torch.randn(batch_size, 160)).to(device)\n",
        "    fake_labels = Variable(labels).to(device)\n",
        "    fake_images = generator(z, fake_labels)\n",
        "    validity = discriminator(fake_images, fake_labels)\n",
        "    g_loss = criterion(validity, Variable(torch.ones(batch_size)).to(device) )\n",
        "    g_loss.backward()\n",
        "    g_optimizer.step()\n",
        "    return g_loss.item()"
      ]
    },
    {
      "cell_type": "code",
      "execution_count": null,
      "metadata": {
        "id": "qlzuJvWAi8T0"
      },
      "outputs": [],
      "source": [
        "def discriminator_train_step(batch_size, discriminator, generator, d_optimizer, criterion, real_images, labels):\n",
        "    d_optimizer.zero_grad()\n",
        "\n",
        "    # train with real images\n",
        "    real_validity = discriminator(real_images, labels)\n",
        "    real_loss = criterion(real_validity, Variable(torch.ones(batch_size)).to(device) )\n",
        "\n",
        "    # train with fake images\n",
        "    z = Variable(torch.randn(batch_size, 160)).to(device)\n",
        "    fake_labels = Variable(labels).to(device)\n",
        "    fake_images = generator(z, fake_labels)\n",
        "    fake_validity = discriminator(fake_images, fake_labels)\n",
        "    fake_loss = criterion(fake_validity, Variable(torch.zeros(batch_size)).to(device) )\n",
        "\n",
        "    d_loss = real_loss + fake_loss\n",
        "    d_loss.backward()\n",
        "    d_optimizer.step()\n",
        "    return d_loss.item()"
      ]
    },
    {
      "cell_type": "code",
      "execution_count": null,
      "metadata": {
        "id": "A_fkGfvz4QsM"
      },
      "outputs": [],
      "source": []
    },
    {
      "cell_type": "markdown",
      "metadata": {
        "id": "yOa6s3YKpgMh"
      },
      "source": [
        "#Loading the Dataset"
      ]
    },
    {
      "cell_type": "code",
      "execution_count": null,
      "metadata": {
        "id": "aK8oLoxFi8T9"
      },
      "outputs": [],
      "source": [
        "#Getting the list of training Files\n",
        "\n",
        "path = \"/content/Optiwing-Cp-Plots\"\n",
        "os.chdir(path)\n",
        "_dir = os.fsencode(path)\n",
        "l = np.array([x.decode('utf-8') for x in os.listdir(_dir)])"
      ]
    },
    {
      "cell_type": "code",
      "execution_count": null,
      "metadata": {
        "id": "_boKKUaIpepk"
      },
      "outputs": [],
      "source": [
        "#Deserializing the data into arrays\n",
        "\n",
        "# contains all the cp values\n",
        "X = []\n",
        "# Contains all the x,y values\n",
        "Y = []\n",
        "for i in l:\n",
        "  try:\n",
        "    with open(i) as f:\n",
        "        try :\n",
        "            next(f)\n",
        "            next(f)\n",
        "            next(f)\n",
        "        except:\n",
        "            continue\n",
        "        x = []\n",
        "        y = []\n",
        "        cp = []\n",
        "        for j in f :\n",
        "            try :\n",
        "                tmp = [float(j[:10]), float(j[10:19]),float(j[19:28])]\n",
        "                x.append(tmp[0])\n",
        "                y.append(tmp[1])\n",
        "                cp.append(tmp[2])\n",
        "            except :\n",
        "                break\n",
        "        else:\n",
        "            if len(cp) == 160 :\n",
        "                X.append(cp)\n",
        "                Y.append([x,y])\n",
        "  except IsADirectoryError:\n",
        "    continue"
      ]
    },
    {
      "cell_type": "code",
      "execution_count": null,
      "metadata": {
        "id": "gHh5966Xpemj"
      },
      "outputs": [],
      "source": [
        "#Converting the arrays into tensors for futher processing\n",
        "X = torch.tensor(X, dtype=torch.float32)\n",
        "y = torch.tensor(Y)\n",
        "y = y.flatten(start_dim=1)"
      ]
    },
    {
      "cell_type": "code",
      "execution_count": null,
      "metadata": {
        "colab": {
          "base_uri": "https://localhost:8080/"
        },
        "id": "gne57dNEElJI",
        "outputId": "1e5d5fd8-7b95-49ce-bed1-6dc0e9823565"
      },
      "outputs": [
        {
          "output_type": "execute_result",
          "data": {
            "text/plain": [
              "1598"
            ]
          },
          "metadata": {},
          "execution_count": 17
        }
      ],
      "source": [
        "len(X)"
      ]
    },
    {
      "cell_type": "code",
      "execution_count": null,
      "metadata": {
        "colab": {
          "base_uri": "https://localhost:8080/"
        },
        "id": "STMPsh2sEn0_",
        "outputId": "67861a26-66e1-4357-ee5b-8c82e4ffb8e0"
      },
      "outputs": [
        {
          "output_type": "execute_result",
          "data": {
            "text/plain": [
              "torch.Size([1598, 320])"
            ]
          },
          "metadata": {},
          "execution_count": 18
        }
      ],
      "source": [
        "y.shape"
      ]
    },
    {
      "cell_type": "code",
      "execution_count": null,
      "metadata": {
        "id": "AwX2fpeZC8RR"
      },
      "outputs": [],
      "source": [
        "#splitting the data into training and testing set\n",
        "\n",
        "train_size = int(1 * len(X))\n",
        "test_size = len(X) - train_size\n",
        "X_train, X_test = X[:train_size],X[train_size:]\n",
        "y_train, y_test = y[:train_size],y[train_size:]"
      ]
    },
    {
      "cell_type": "code",
      "execution_count": null,
      "metadata": {
        "id": "oz99KRKm2Syt",
        "outputId": "bd631ae3-1dd6-41c2-bda8-aa4a641b003e",
        "colab": {
          "base_uri": "https://localhost:8080/"
        }
      },
      "outputs": [
        {
          "output_type": "execute_result",
          "data": {
            "text/plain": [
              "torch.Size([1598, 320])"
            ]
          },
          "metadata": {},
          "execution_count": 20
        }
      ],
      "source": [
        "y.shape"
      ]
    },
    {
      "cell_type": "code",
      "execution_count": null,
      "metadata": {
        "id": "DETtCyfkC1m8"
      },
      "outputs": [],
      "source": [
        "class CustomDataset(Dataset):\n",
        "    def __init__(self, df, training=True):\n",
        "        self.X,self.y = df\n",
        "        self.training=training\n",
        "\n",
        "    def __len__(self):\n",
        "        return len(self.X)\n",
        "\n",
        "    def __getitem__(self, idx):\n",
        "        cond = self.X[idx].reshape(160,1)\n",
        "        if self.training:\n",
        "            label = self.y[idx][160:]\n",
        "            return cond,label\n",
        "        return cond"
      ]
    },
    {
      "cell_type": "code",
      "execution_count": null,
      "metadata": {
        "id": "y8IQh2rvp_bH"
      },
      "outputs": [],
      "source": [
        "train_dataset = CustomDataset((X_train,y_train), training=True)\n",
        "test_dataset = CustomDataset((X_train,y_train), training=True)\n",
        "\n",
        "train_dataloader = DataLoader(train_dataset, batch_size=32, shuffle=True)\n",
        "test_dataloader = DataLoader(test_dataset, batch_size=32, shuffle=False)"
      ]
    },
    {
      "cell_type": "code",
      "execution_count": null,
      "metadata": {
        "colab": {
          "base_uri": "https://localhost:8080/"
        },
        "id": "j5Cg59aQs8Ku",
        "outputId": "42ead6cb-7ab5-4b18-c7d3-79ed364ac116"
      },
      "outputs": [
        {
          "output_type": "execute_result",
          "data": {
            "text/plain": [
              "torch.Size([32, 160, 1])"
            ]
          },
          "metadata": {},
          "execution_count": 23
        }
      ],
      "source": [
        "next(iter(train_dataloader))[0].shape"
      ]
    },
    {
      "cell_type": "markdown",
      "metadata": {
        "id": "CvsEQj1qw7pQ"
      },
      "source": [
        "##init weights"
      ]
    },
    {
      "cell_type": "code",
      "execution_count": null,
      "metadata": {
        "id": "y7MwK-uqrnjx"
      },
      "outputs": [],
      "source": [
        "def weights_init_normal(m):\n",
        "    classname = m.__class__.__name__\n",
        "    if classname.find(\"Conv\") != -1:\n",
        "        torch.nn.init.normal_(m.weight.data, 0.0, 0.02)\n",
        "    elif classname.find(\"BatchNorm2d\") != -1:\n",
        "        torch.nn.init.normal_(m.weight.data, 1.0, 0.02)\n",
        "        torch.nn.init.constant_(m.bias.data, 0.0)"
      ]
    },
    {
      "cell_type": "code",
      "execution_count": null,
      "metadata": {
        "colab": {
          "base_uri": "https://localhost:8080/"
        },
        "id": "j26F7NNS1owk",
        "outputId": "efeb93c9-03e8-46dc-ed14-78ca6414acbc"
      },
      "outputs": [
        {
          "output_type": "execute_result",
          "data": {
            "text/plain": [
              "Discriminator(\n",
              "  (archtitecture): Sequential(\n",
              "    (0): Sequential(\n",
              "      (0): Conv1d(2, 128, kernel_size=(4,), stride=(2,), bias=False)\n",
              "    )\n",
              "    (1): LeakyReLU(negative_slope=0.2, inplace=True)\n",
              "    (2): Sequential(\n",
              "      (0): Conv1d(128, 128, kernel_size=(2,), stride=(2,), bias=False)\n",
              "    )\n",
              "    (3): LeakyReLU(negative_slope=0.2, inplace=True)\n",
              "  )\n",
              "  (flatten): Flatten(start_dim=1, end_dim=-1)\n",
              "  (dropout): Dropout(p=0.4, inplace=False)\n",
              "  (dense): Sequential(\n",
              "    (0): Linear(in_features=4992, out_features=2560, bias=True)\n",
              "    (1): Linear(in_features=2560, out_features=640, bias=True)\n",
              "    (2): Linear(in_features=640, out_features=64, bias=True)\n",
              "    (3): Linear(in_features=64, out_features=1, bias=True)\n",
              "  )\n",
              ")"
            ]
          },
          "metadata": {},
          "execution_count": 25
        }
      ],
      "source": [
        "generator.apply(weights_init_normal)\n",
        "discriminator.apply(weights_init_normal)"
      ]
    },
    {
      "cell_type": "code",
      "execution_count": null,
      "metadata": {
        "colab": {
          "base_uri": "https://localhost:8080/"
        },
        "id": "1jsAo75di8T2",
        "outputId": "34cd9772-3bd9-4f09-eb61-05cc79c76fcb"
      },
      "outputs": [
        {
          "output_type": "stream",
          "name": "stdout",
          "text": [
            "Starting epoch 0... "
          ]
        },
        {
          "output_type": "stream",
          "name": "stderr",
          "text": [
            "/usr/local/lib/python3.10/dist-packages/torch/nn/modules/loss.py:535: UserWarning: Using a target size (torch.Size([32])) that is different to the input size (torch.Size([32, 1])). This will likely lead to incorrect results due to broadcasting. Please ensure they have the same size.\n",
            "  return F.mse_loss(input, target, reduction=self.reduction)\n",
            "/usr/local/lib/python3.10/dist-packages/torch/nn/modules/loss.py:535: UserWarning: Using a target size (torch.Size([30])) that is different to the input size (torch.Size([30, 1])). This will likely lead to incorrect results due to broadcasting. Please ensure they have the same size.\n",
            "  return F.mse_loss(input, target, reduction=self.reduction)\n"
          ]
        },
        {
          "output_type": "stream",
          "name": "stdout",
          "text": [
            "Done!\n",
            "Starting epoch 1... "
          ]
        }
      ],
      "source": [
        "num_epochs = 50000\n",
        "n_critic = 5\n",
        "display_step = 50\n",
        "x_vals = X[0][0]\n",
        "for epoch in range(num_epochs):\n",
        "    print('Starting epoch {}...'.format(epoch), end=' ')\n",
        "    for i, (labels, images) in enumerate(train_dataloader):\n",
        "        if len(labels) != len(images):\n",
        "          continue\n",
        "        step = epoch * len(train_dataloader) + i + 1\n",
        "        real_images = Variable(images).to(device)\n",
        "        labels = Variable(labels).to(device)\n",
        "        generator.train()\n",
        "        d_loss = 0\n",
        "        for _ in range(n_critic):\n",
        "            d_loss = discriminator_train_step(len(real_images), discriminator,\n",
        "                                              generator, d_optimizer, criterion,\n",
        "                                              real_images, labels)\n",
        "\n",
        "        batch_size = len(labels)\n",
        "        g_loss = generator_train_step(batch_size, discriminator, generator, g_optimizer, criterion,labels)\n",
        "\n",
        "        writer.add_scalars('scalars', {'g_loss': g_loss, 'd_loss': (d_loss / n_critic)}, step)\n",
        "\n",
        "        ''' if step % display_step == 0:\n",
        "            generator.eval()\n",
        "            z = Variable(torch.randn(1,160)).to(device)\n",
        "            sample_images = generator(z, labels).unsqueeze(1)\n",
        "            #plt.plot(Y[0][0],sample_images.reshape(160).detach().numpy())'''\n",
        "    print('Done!')"
      ]
    },
    {
      "cell_type": "code",
      "execution_count": null,
      "metadata": {
        "id": "1WtN0TPGvEgo"
      },
      "outputs": [],
      "source": [
        "test_data = enumerate(train_dataloader)\n",
        "for j in range(25):\n",
        "    i, (labels, images)  = next(test_data)\n",
        "\n",
        "labels = torch.Tensor(labels[0]).to(device).reshape(1,160)\n",
        "generator.eval()\n",
        "z = torch.randn(1,160).to(device)\n",
        "sample_images = generator(z, labels).unsqueeze(1)\n",
        "plt.plot(Y[0][0],sample_images.reshape(160).cpu().detach().numpy())\n",
        "plt.plot(Y[0][0],images.reshape(160).cpu().detach().numpy())"
      ]
    },
    {
      "cell_type": "code",
      "execution_count": null,
      "metadata": {
        "id": "CiPRzpUdi8T5"
      },
      "outputs": [],
      "source": [
        "os.chdir('./')\n",
        "torch.save(generator.state_dict(), 'generator_state_200.pt')\n",
        "torch.save(discriminator.state_dict(), 'discriminator_state_200.pt')"
      ]
    },
    {
      "cell_type": "code",
      "execution_count": null,
      "metadata": {
        "id": "OSfHiEbYi8T6"
      },
      "outputs": [],
      "source": [
        "z = Variable(torch.randn(100, 100))\n",
        "labels = torch.LongTensor([i for i in range(10) for _ in range(10)])"
      ]
    },
    {
      "cell_type": "code",
      "execution_count": null,
      "metadata": {
        "id": "ZUHFSMcMi8T7"
      },
      "outputs": [],
      "source": [
        "images = generator(z, labels).unsqueeze(1)"
      ]
    },
    {
      "cell_type": "code",
      "execution_count": null,
      "metadata": {
        "id": "IMf0d5Tci8T7"
      },
      "outputs": [],
      "source": [
        "grid = make_grid(images, nrow=10, normalize=True)"
      ]
    },
    {
      "cell_type": "code",
      "execution_count": null,
      "metadata": {
        "id": "uMtOyJCTi8T8"
      },
      "outputs": [],
      "source": [
        "fig, ax = plt.subplots(figsize=(10,10))\n",
        "ax.imshow(grid.permute(1, 2, 0).data, cmap='binary')\n",
        "ax.axis('off')"
      ]
    },
    {
      "cell_type": "code",
      "execution_count": null,
      "metadata": {
        "id": "EWY0xFC0i8T8"
      },
      "outputs": [],
      "source": [
        "def generate_digit(generator, digit):\n",
        "    z = Variable(torch.randn(1, 100))\n",
        "    label = torch.LongTensor([digit])\n",
        "    img = generator(z, label).data.cpu()\n",
        "    img = 0.5 * img + 0.5\n",
        "    return transforms.ToPILImage()(img)"
      ]
    },
    {
      "cell_type": "code",
      "execution_count": null,
      "metadata": {
        "id": "nQAZ9f8ui8T9"
      },
      "outputs": [],
      "source": [
        "generate_digit(generator, 4)"
      ]
    },
    {
      "cell_type": "code",
      "execution_count": null,
      "metadata": {
        "id": "ioFOt-RGyJHD"
      },
      "outputs": [],
      "source": []
    },
    {
      "cell_type": "code",
      "execution_count": null,
      "metadata": {
        "id": "jfiMip44tG5i"
      },
      "outputs": [],
      "source": []
    }
  ],
  "metadata": {
    "accelerator": "GPU",
    "colab": {
      "gpuType": "T4",
      "provenance": [],
      "include_colab_link": true
    },
    "kernelspec": {
      "display_name": "Python 3 (ipykernel)",
      "language": "python",
      "name": "python3"
    },
    "language_info": {
      "codemirror_mode": {
        "name": "ipython",
        "version": 3
      },
      "file_extension": ".py",
      "mimetype": "text/x-python",
      "name": "python",
      "nbconvert_exporter": "python",
      "pygments_lexer": "ipython3",
      "version": "3.11.0"
    }
  },
  "nbformat": 4,
  "nbformat_minor": 0
}